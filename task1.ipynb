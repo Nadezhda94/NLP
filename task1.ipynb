{
 "cells": [
  {
   "cell_type": "markdown",
   "metadata": {},
   "source": [
    "## Загрузка данных"
   ]
  },
  {
   "cell_type": "code",
   "execution_count": 129,
   "metadata": {
    "collapsed": false
   },
   "outputs": [],
   "source": [
    "data = []\n",
    "with open(\"./smsspamcollection/SMSSpamCollection\") as f:\n",
    "    data = [line.split(\"\\t\") for line in f.readlines()]"
   ]
  },
  {
   "cell_type": "code",
   "execution_count": 130,
   "metadata": {
    "collapsed": false
   },
   "outputs": [],
   "source": [
    "texts = [line[1] for line in data]\n",
    "tags = [int(line[0]==\"spam\") for line in data]"
   ]
  },
  {
   "cell_type": "code",
   "execution_count": 131,
   "metadata": {
    "collapsed": false
   },
   "outputs": [
    {
     "name": "stdout",
     "output_type": "stream",
     "text": [
      "общее кол-ва документов: 5574\n",
      "кол-во спама: 747\n"
     ]
    }
   ],
   "source": [
    "print(\"общее кол-ва документов:\", len(texts))\n",
    "print(\"кол-во спама:\", sum(tags))"
   ]
  },
  {
   "cell_type": "code",
   "execution_count": 132,
   "metadata": {
    "collapsed": true
   },
   "outputs": [],
   "source": [
    "from sklearn.feature_extraction.text import CountVectorizer\n",
    "from sklearn.linear_model import LogisticRegression\n",
    "from sklearn.model_selection import cross_val_score\n",
    "import numpy as np\n"
   ]
  },
  {
   "cell_type": "code",
   "execution_count": 133,
   "metadata": {
    "collapsed": true
   },
   "outputs": [],
   "source": [
    "def build_evaluate(vectorizer, cls):\n",
    "    X = vectorizer.fit_transform(texts)\n",
    "    res = cross_val_score(cls, X, tags, scoring=\"f1\", cv=10)\n",
    "    return np.mean(res)"
   ]
  },
  {
   "cell_type": "markdown",
   "metadata": {},
   "source": [
    "## Простой Bag of words"
   ]
  },
  {
   "cell_type": "code",
   "execution_count": 134,
   "metadata": {
    "collapsed": false
   },
   "outputs": [
    {
     "name": "stdout",
     "output_type": "stream",
     "text": [
      "default CountVectorizer + LogisticRegression:  0.933348526858\n"
     ]
    }
   ],
   "source": [
    "res = build_evaluate(CountVectorizer(), LogisticRegression())\n",
    "print(\"default CountVectorizer + LogisticRegression: \", res)"
   ]
  },
  {
   "cell_type": "markdown",
   "metadata": {},
   "source": [
    "## Примеры прогнозов"
   ]
  },
  {
   "cell_type": "code",
   "execution_count": 135,
   "metadata": {
    "collapsed": false
   },
   "outputs": [
    {
     "name": "stdout",
     "output_type": "stream",
     "text": [
      "1 1 0 0 0\n"
     ]
    }
   ],
   "source": [
    "text_to_predict = [\"FreeMsg: Txt: CALL to No: 86888 & claim your reward of 3 hours talk time to use from your phone now! Subscribe6GB\",\n",
    "                   \"FreeMsg: Txt: claim your reward of 3 hours talk time\",\n",
    "                   \"Have you visited the last lecture on physics?\",\n",
    "                   \"Have you visited the last lecture on physics? Just buy this book and you will have all materials! Only 99$\",\n",
    "                   \"Only 99$\"]\n",
    "vectorizer = CountVectorizer()\n",
    "X = vectorizer.fit_transform(texts)\n",
    "\n",
    "cls = LogisticRegression()\n",
    "cls.fit(X, tags)\n",
    "\n",
    "sample = vectorizer.transform(text_to_predict)\n",
    "predicted_tags = cls.predict(sample)\n",
    "print(\" \".join(map(str, predicted_tags)))"
   ]
  },
  {
   "cell_type": "markdown",
   "metadata": {},
   "source": [
    "## N-граммы + LogisticRegression"
   ]
  },
  {
   "cell_type": "code",
   "execution_count": 136,
   "metadata": {
    "collapsed": false
   },
   "outputs": [
    {
     "name": "stdout",
     "output_type": "stream",
     "text": [
      "0.82 0.73 0.93\n"
     ]
    }
   ],
   "source": [
    "ngram_ranges = [(2,2),(3,3),(1,3)]\n",
    "\n",
    "results = [round(build_evaluate(CountVectorizer(ngram_range=ngram_range), LogisticRegression()),2) for ngram_range in ngram_ranges]\n",
    "print(\" \".join(map(str, results)))"
   ]
  },
  {
   "cell_type": "markdown",
   "metadata": {},
   "source": [
    "## N-граммы + MultinomialNB"
   ]
  },
  {
   "cell_type": "code",
   "execution_count": 138,
   "metadata": {
    "collapsed": false
   },
   "outputs": [
    {
     "name": "stdout",
     "output_type": "stream",
     "text": [
      "0.65 0.38 0.89\n"
     ]
    }
   ],
   "source": [
    "from sklearn.naive_bayes import MultinomialNB\n",
    "\n",
    "results = [round(build_evaluate(CountVectorizer(ngram_range=ngram_range), MultinomialNB()),2) for ngram_range in ngram_ranges]\n",
    "print(\" \".join(map(str, results)))"
   ]
  },
  {
   "cell_type": "markdown",
   "metadata": {},
   "source": [
    "## Tf*Idf"
   ]
  },
  {
   "cell_type": "code",
   "execution_count": 139,
   "metadata": {
    "collapsed": false
   },
   "outputs": [
    {
     "name": "stdout",
     "output_type": "stream",
     "text": [
      "0.852859955417\n"
     ]
    }
   ],
   "source": [
    "from sklearn.feature_extraction.text import TfidfVectorizer\n",
    "\n",
    "res = build_evaluate(TfidfVectorizer(), LogisticRegression())\n",
    "print(res)"
   ]
  },
  {
   "cell_type": "markdown",
   "metadata": {},
   "source": [
    "Результат получился похуже, чем тот, что был получен с помощью CountVectorizer.  \n",
    "Но размер выборки и самих текстов небольшой - сильно влияние компонента idf, который одинаков для выбранного слова в разных текстах."
   ]
  },
  {
   "cell_type": "markdown",
   "metadata": {},
   "source": [
    "## Эксперименты"
   ]
  },
  {
   "cell_type": "code",
   "execution_count": 140,
   "metadata": {
    "collapsed": false
   },
   "outputs": [
    {
     "name": "stdout",
     "output_type": "stream",
     "text": [
      "tf feat_count: 5000 min: 0.0009 c: 40 max_df:  0.1\n",
      "0.954236848917\n",
      "tf feat_count: 5000 min: 0.001 c: 40 max_df:  0.1\n",
      "0.954236848917\n",
      "tf feat_count: 6000 min: 0.0009 c: 40 max_df:  0.1\n",
      "0.954236848917\n",
      "tf feat_count: 6000 min: 0.001 c: 40 max_df:  0.1\n",
      "0.954236848917\n",
      "tf feat_count: 10000 min: 0.0009 c: 40 max_df:  0.1\n",
      "0.954236848917\n",
      "tf feat_count: 10000 min: 0.001 c: 40 max_df:  0.1\n",
      "0.954236848917\n",
      "tf feat_count: 5000 min: 0.0009 c: 50 max_df:  0.1\n",
      "0.955653897563\n",
      "tf feat_count: 5000 min: 0.001 c: 50 max_df:  0.1\n",
      "0.955653897563\n",
      "tf feat_count: 6000 min: 0.0009 c: 50 max_df:  0.1\n",
      "0.955653897563\n",
      "tf feat_count: 6000 min: 0.001 c: 50 max_df:  0.1\n",
      "0.955653897563\n",
      "tf feat_count: 10000 min: 0.0009 c: 50 max_df:  0.1\n",
      "0.955653897563\n",
      "tf feat_count: 10000 min: 0.001 c: 50 max_df:  0.1\n",
      "0.955653897563\n",
      "tf feat_count: 5000 min: 0.0009 c: 60 max_df:  0.1\n",
      "0.955653897563\n",
      "tf feat_count: 5000 min: 0.001 c: 60 max_df:  0.1\n",
      "0.955653897563\n",
      "tf feat_count: 6000 min: 0.0009 c: 60 max_df:  0.1\n",
      "0.955653897563\n",
      "tf feat_count: 6000 min: 0.001 c: 60 max_df:  0.1\n",
      "0.955653897563\n",
      "tf feat_count: 10000 min: 0.0009 c: 60 max_df:  0.1\n",
      "0.955653897563\n",
      "tf feat_count: 10000 min: 0.001 c: 60 max_df:  0.1\n",
      "0.955653897563\n",
      "tf feat_count: 5000 min: 0.0009 c: 70 max_df:  0.1\n",
      "0.954935900397\n",
      "tf feat_count: 5000 min: 0.001 c: 70 max_df:  0.1\n",
      "0.954935900397\n",
      "tf feat_count: 6000 min: 0.0009 c: 70 max_df:  0.1\n",
      "0.954935900397\n",
      "tf feat_count: 6000 min: 0.001 c: 70 max_df:  0.1\n",
      "0.954935900397\n",
      "tf feat_count: 10000 min: 0.0009 c: 70 max_df:  0.1\n",
      "0.954935900397\n",
      "tf feat_count: 10000 min: 0.001 c: 70 max_df:  0.1\n",
      "0.954935900397\n",
      "tf feat_count: 5000 min: 0.0009 c: 80 max_df:  0.1\n",
      "0.954935900397\n",
      "tf feat_count: 5000 min: 0.001 c: 80 max_df:  0.1\n",
      "0.954935900397\n",
      "tf feat_count: 6000 min: 0.0009 c: 80 max_df:  0.1\n",
      "0.954935900397\n",
      "tf feat_count: 6000 min: 0.001 c: 80 max_df:  0.1\n",
      "0.954935900397\n",
      "tf feat_count: 10000 min: 0.0009 c: 80 max_df:  0.1\n",
      "0.954935900397\n",
      "tf feat_count: 10000 min: 0.001 c: 80 max_df:  0.1\n",
      "0.954935900397\n",
      "tf feat_count: 5000 min: 0.0009 c: 90 max_df:  0.1\n",
      "0.954935900397\n",
      "tf feat_count: 5000 min: 0.0009 c: 90 max_df:  0.2\n",
      "0.954187623931\n",
      "tf feat_count: 5000 min: 0.001 c: 90 max_df:  0.1\n",
      "0.954935900397\n",
      "tf feat_count: 5000 min: 0.001 c: 90 max_df:  0.2\n",
      "0.954187623931\n",
      "tf feat_count: 6000 min: 0.0009 c: 90 max_df:  0.1\n",
      "0.954935900397\n",
      "tf feat_count: 6000 min: 0.0009 c: 90 max_df:  0.2\n",
      "0.954187623931\n",
      "tf feat_count: 6000 min: 0.001 c: 90 max_df:  0.1\n",
      "0.954935900397\n",
      "tf feat_count: 6000 min: 0.001 c: 90 max_df:  0.2\n",
      "0.954187623931\n",
      "tf feat_count: 10000 min: 0.0009 c: 90 max_df:  0.1\n",
      "0.954935900397\n",
      "tf feat_count: 10000 min: 0.0009 c: 90 max_df:  0.2\n",
      "0.954187623931\n",
      "tf feat_count: 10000 min: 0.001 c: 90 max_df:  0.1\n",
      "0.954935900397\n",
      "tf feat_count: 10000 min: 0.001 c: 90 max_df:  0.2\n",
      "0.954187623931\n"
     ]
    }
   ],
   "source": [
    "for c in range(40, 100, 10):\n",
    "    for feat_count in [5000, 6000,10000 ]:\n",
    "        for min_df in [ 0.0009, 0.001, 0.002]:\n",
    "            for max_df in [0.09, 0.1, 0.2]:\n",
    "                tfidf = TfidfVectorizer(max_features=feat,min_df=min_df,ngram_range=(1,2), max_df=max_df)\n",
    "                X_tfidf = tfidf.fit_transform(texts)\n",
    "\n",
    "                cls = LogisticRegression(C=c)\n",
    "\n",
    "                res = cross_val_score(cls, X_tfidf, tags, scoring=\"f1\", cv=10)\n",
    "                if np.mean(res) >0.954:\n",
    "                    print(\"tf feat_count: \" + str(feat_count) + \" min: \" + str(min_df) + \" c: \" + str(c) + \" max_df: \", max_df)\n",
    "                    print(np.mean(res))\n"
   ]
  },
  {
   "cell_type": "markdown",
   "metadata": {},
   "source": [
    "Пробовала еще и с использованием триграмм(вместе с униграммами и биграммами), но статистики для триграмм все же маловато."
   ]
  },
  {
   "cell_type": "markdown",
   "metadata": {},
   "source": [
    "Лучший результат 0.955653897563 для feat_count: 6000, min_df: 0.001, c: 50, max_df:  0.1"
   ]
  },
  {
   "cell_type": "markdown",
   "metadata": {},
   "source": [
    "## Выводы"
   ]
  },
  {
   "cell_type": "markdown",
   "metadata": {},
   "source": [
    "При использовании одних униграмм качество, полученное с помощью CountVectorizer оказалось выше, чем с помощью TfIdfVectorizer. Но следует учитывать, что выборка небольшая и сами тексты маленькие.\n",
    "\n",
    "Лучшее значение получено при выборе униграмм и биграмм в качестве для формирования признаков. При этом количество признаков было ограничено.\n",
    "\n",
    "Уменьшение параметра регуляризации привело к росту качества модели, но такая модель может показать не очень хороший результат на тестовых данных, так как могли переобучиться."
   ]
  }
 ],
 "metadata": {
  "anaconda-cloud": {},
  "kernelspec": {
   "display_name": "Python 3",
   "language": "python",
   "name": "python3"
  },
  "language_info": {
   "codemirror_mode": {
    "name": "ipython",
    "version": 3
   },
   "file_extension": ".py",
   "mimetype": "text/x-python",
   "name": "python",
   "nbconvert_exporter": "python",
   "pygments_lexer": "ipython3",
   "version": "3.6.0"
  }
 },
 "nbformat": 4,
 "nbformat_minor": 0
}
